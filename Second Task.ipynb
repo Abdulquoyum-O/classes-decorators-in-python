{
 "cells": [
  {
   "cell_type": "markdown",
   "id": "832f1466",
   "metadata": {},
   "source": [
    "# Object Oriented"
   ]
  },
  {
   "cell_type": "code",
   "execution_count": 3,
   "id": "1041114f",
   "metadata": {},
   "outputs": [
    {
     "name": "stdout",
     "output_type": "stream",
     "text": [
      "Oluwagbemi Abdulquoyum Omogbolahan\n",
      "191626\n",
      "pin\n"
     ]
    }
   ],
   "source": [
    "#Dictionary\n",
    "#Dictionary is a data type in pyhton that can acts as a database so save files containing\n",
    "#related information, it consist of the keys and values, to get the values we use keys;\n",
    "myDict = {'Name': 'Oluwagbemi Abdulquoyum Omogbolahan',\n",
    "         'matric_no': 191626,\n",
    "         1234: 'pin'}\n",
    "#The keys can be in a form of str or integer but it is mostly in a string format\n",
    "\n",
    "myDict.keys()#To get all the keys we say;\n",
    "myDict.values()#To get all the values\n",
    "print(myDict['Name'])#To get the values associated with this key\n",
    "print(myDict['matric_no'])#To get the values associated with this key\n",
    "print(myDict[1234])#To get the values associated with this key"
   ]
  },
  {
   "cell_type": "code",
   "execution_count": 8,
   "id": "9da39204",
   "metadata": {},
   "outputs": [
    {
     "name": "stdout",
     "output_type": "stream",
     "text": [
      "black\n"
     ]
    }
   ],
   "source": [
    "#CLASS\n",
    "#Class is used to define a set of attribute and methods that the object created from the class\n",
    "#will have\n",
    "class Human:\n",
    "    def __init__(self, gender, complexion):\n",
    "        self.gender = gender\n",
    "        self.complexion = complexion\n",
    "    def display(self):\n",
    "        print(self.gender, self.complexion)\n",
    "my_info = Human('male', 'black')\n",
    "print(my_info.complexion)"
   ]
  },
  {
   "cell_type": "code",
   "execution_count": 14,
   "id": "2eb5a7e1",
   "metadata": {},
   "outputs": [],
   "source": [
    "class Student:\n",
    "    def __init__(self, name, house, patronus):\n",
    "        self.name = name\n",
    "        self.house = house\n",
    "        self.patronus = patronus\n",
    "    def __str__(self):\n",
    "        print(f'{self.name} from {self.house}')\n",
    "    def main():\n",
    "        student = get_student()\n",
    "        print(student)\n",
    "    def get_student():\n",
    "        name = input('Name: ')\n",
    "        house = input('House: ')\n",
    "        patronus = input('Patrous: ')\n",
    "        return Student(name, house, patronus)\n",
    "if __name__ == '__main__':\n",
    "    main()\n"
   ]
  },
  {
   "cell_type": "code",
   "execution_count": 15,
   "id": "887b4051",
   "metadata": {},
   "outputs": [
    {
     "name": "stdout",
     "output_type": "stream",
     "text": [
      "Gbolahan is in Amule\n"
     ]
    }
   ],
   "source": [
    "#Hat\n",
    "import random\n",
    "class Hat:\n",
    "    house = ['Oke-Ado', 'Foko', 'Amule', 'Osoba']\n",
    "    @classmethod\n",
    "    def sort(cls, name):\n",
    "        print(name, 'is in', random.choice(cls.house))\n",
    "Hat.sort('Gbolahan')"
   ]
  },
  {
   "cell_type": "code",
   "execution_count": 18,
   "id": "abd031bc",
   "metadata": {},
   "outputs": [],
   "source": [
    "#Vault\n",
    "class Vault:\n",
    "    def __init___(self, galleons= 0, sickles= 0, knut = 0):\n",
    "        self.galleons = galleons\n",
    "        self.sickles = sickles\n",
    "        self.knut = knuts\n",
    "    def __str__(self):\n",
    "        return f'{self.galleons}Galleons, {self.sickles}Sickles, {self.knut}Knuts'\n",
    "    def __add__(self, other):\n",
    "        galleons = self.galleons + other.galleons\n",
    "        sickles = self.sickles + other.sickles\n",
    "        knuts = self.knuts + other.knuts\n",
    "        return vault(galleons, sickles, knuts)\n",
    "potter = Vault(100, 50, 25)\n",
    "print(potter)\n",
    "weasley = Vault(25, 50, 25)\n",
    "print(weasley)\n",
    "total = potter + weasley\n",
    "print(total)"
   ]
  },
  {
   "cell_type": "code",
   "execution_count": null,
   "id": "8851645d",
   "metadata": {},
   "outputs": [],
   "source": [
    "#Wizard\n",
    "class Wizard:\n",
    "    def __init__(self, name):\n",
    "        if not name:\n",
    "            raise ValueError('Missing Name')\n",
    "        self.name = name\n",
    "class Student(Wizard):\n",
    "    def __init__(self, name, house):\n",
    "        super().__init__(name)\n",
    "        self.house = house\n",
    "class Professor(wizard):\n",
    "    def __init__(self, name, subject):\n",
    "        super().__init__(name)\n",
    "        self.subject = subject\n",
    "wizard =Wizard('Oluwagbemi')\n",
    "student =Student('Abdulquoyum', 'Omogbolahan')\n",
    "professor = Professor('Pyper', 'Data science')\n",
    "    "
   ]
  },
  {
   "cell_type": "code",
   "execution_count": null,
   "id": "98771755",
   "metadata": {},
   "outputs": [],
   "source": []
  }
 ],
 "metadata": {
  "kernelspec": {
   "display_name": "Python 3 (ipykernel)",
   "language": "python",
   "name": "python3"
  },
  "language_info": {
   "codemirror_mode": {
    "name": "ipython",
    "version": 3
   },
   "file_extension": ".py",
   "mimetype": "text/x-python",
   "name": "python",
   "nbconvert_exporter": "python",
   "pygments_lexer": "ipython3",
   "version": "3.11.4"
  }
 },
 "nbformat": 4,
 "nbformat_minor": 5
}
